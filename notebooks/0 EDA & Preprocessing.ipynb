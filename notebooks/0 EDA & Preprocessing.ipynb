{
  "cells": [
    {
      "attachments": {},
      "cell_type": "markdown",
      "metadata": {},
      "source": [
        "# Imports"
      ]
    },
    {
      "cell_type": "code",
      "execution_count": 1,
      "metadata": {
        "ExecuteTime": {
          "end_time": "2023-05-19T06:10:23.678400Z",
          "start_time": "2023-05-19T06:10:16.503064Z"
        },
        "execution": {
          "iopub.execute_input": "2023-05-27T12:38:45.754173Z",
          "iopub.status.busy": "2023-05-27T12:38:45.753817Z",
          "iopub.status.idle": "2023-05-27T12:38:45.761532Z",
          "shell.execute_reply": "2023-05-27T12:38:45.760595Z",
          "shell.execute_reply.started": "2023-05-27T12:38:45.754142Z"
        },
        "id": "Qrhk3VDRyRbC",
        "trusted": true
      },
      "outputs": [],
      "source": [
        "import json\n",
        "import matplotlib.pyplot as plt\n",
        "import numpy as np\n",
        "import pandas as pd\n",
        "import random\n",
        "from scipy.spatial.distance import cosine, euclidean"
      ]
    },
    {
      "cell_type": "code",
      "execution_count": 2,
      "metadata": {
        "id": "yZwWOHcB5asi"
      },
      "outputs": [],
      "source": [
        "SEED = 2023\n",
        "random.seed(SEED)\n",
        "np.random.seed(SEED)"
      ]
    },
    {
      "attachments": {},
      "cell_type": "markdown",
      "metadata": {
        "id": "DzIyABApdD5b"
      },
      "source": [
        "# Exploration Data Analysis"
      ]
    },
    {
      "cell_type": "code",
      "execution_count": 3,
      "metadata": {
        "id": "_N8ayL83WoLT"
      },
      "outputs": [],
      "source": [
        "TRAIN_PAIRS_PATH = \"../dataset/train_pairs.parquet\"\n",
        "TRAIN_DATA_PATH = \"../dataset/train_data.parquet\"\n",
        "\n",
        "TEST_PAIRS_PATH = \"../dataset/test_pairs_wo_target.parquet\"\n",
        "TEST_DATA_PATH = \"../dataset/test_data.parquet\""
      ]
    },
    {
      "cell_type": "code",
      "execution_count": 4,
      "metadata": {
        "ExecuteTime": {
          "end_time": "2023-05-19T06:12:05.012452Z",
          "start_time": "2023-05-19T06:11:27.878101Z"
        },
        "id": "LwkGih5myRbO"
      },
      "outputs": [],
      "source": [
        "train_pairs = pd.read_parquet(TRAIN_PAIRS_PATH)\n",
        "train_etl = pd.read_parquet(TRAIN_DATA_PATH)\n",
        "\n",
        "test_pairs = pd.read_parquet(TEST_PAIRS_PATH)\n",
        "test_etl = pd.read_parquet(TEST_DATA_PATH)"
      ]
    },
    {
      "attachments": {},
      "cell_type": "markdown",
      "metadata": {
        "id": "r_36H2qvdI2D"
      },
      "source": [
        "Преобразуем поле categories, выделим 3ю категорию:"
      ]
    },
    {
      "cell_type": "code",
      "execution_count": 5,
      "metadata": {
        "id": "GTRZfI8xTl7D"
      },
      "outputs": [],
      "source": [
        "train_etl['categories'] = train_etl['categories'].apply(lambda x: json.loads(x)[\"3\"])\n",
        "test_etl['categories'] = test_etl['categories'].apply(lambda x: json.loads(x)[\"3\"])"
      ]
    },
    {
      "attachments": {},
      "cell_type": "markdown",
      "metadata": {},
      "source": [
        "Выделим ключи и значения атрибутов в отдельные колонки:"
      ]
    },
    {
      "cell_type": "code",
      "execution_count": 14,
      "metadata": {},
      "outputs": [],
      "source": [
        "def parse_values(row):\n",
        "  if row is None:\n",
        "    return \"[SEP]\"\n",
        "  \n",
        "  parsed_row = json.loads(row).values()\n",
        "  parsed_row = \"; \".join([\" \".join(val) for val in parsed_row])\n",
        "  return parsed_row\n",
        "\n",
        "def parse_keys(row):\n",
        "  if row is None:\n",
        "    return \"[SEP]\"\n",
        "  \n",
        "  parsed_row = json.loads(row).keys()\n",
        "  parsed_row = \"; \".join([val for val in parsed_row])\n",
        "  return parsed_row"
      ]
    },
    {
      "cell_type": "code",
      "execution_count": 15,
      "metadata": {},
      "outputs": [],
      "source": [
        "train_etl[\"attr_keys\"] = train_etl['characteristic_attributes_mapping'].apply(parse_keys)\n",
        "train_etl[\"attr_vals\"] = train_etl['characteristic_attributes_mapping'].apply(parse_values)\n",
        "\n",
        "test_etl[\"attr_keys\"] = test_etl['characteristic_attributes_mapping'].apply(parse_keys)\n",
        "test_etl[\"attr_vals\"] = test_etl['characteristic_attributes_mapping'].apply(parse_values)"
      ]
    },
    {
      "attachments": {},
      "cell_type": "markdown",
      "metadata": {
        "id": "cVtBjAdDd8vZ"
      },
      "source": [
        "В тренировочной выборке больше категорий чем в тестовой. При этом в тестовой выборке присутствуют все категории из тренировочной:"
      ]
    },
    {
      "cell_type": "code",
      "execution_count": 18,
      "metadata": {
        "colab": {
          "base_uri": "https://localhost:8080/"
        },
        "id": "nOw8QvfxYbdj",
        "outputId": "f737716e-33dd-447e-e4b9-c3ba3e52f11f"
      },
      "outputs": [
        {
          "name": "stdout",
          "output_type": "stream",
          "text": [
            "Train categories size:  127\n",
            "Test categories size:  74\n"
          ]
        }
      ],
      "source": [
        "train_categories = train_etl['categories'].unique()\n",
        "test_categories = test_etl['categories'].unique()\n",
        "print(\"Train categories size: \",len(train_categories))\n",
        "print(\"Test categories size: \", len(test_categories))"
      ]
    },
    {
      "cell_type": "code",
      "execution_count": 19,
      "metadata": {
        "colab": {
          "base_uri": "https://localhost:8080/"
        },
        "id": "_jqfFg5WYwgr",
        "outputId": "4595be80-3627-4d1b-beb2-cca65c675d9d"
      },
      "outputs": [
        {
          "data": {
            "text/plain": [
              "74"
            ]
          },
          "execution_count": 19,
          "metadata": {},
          "output_type": "execute_result"
        }
      ],
      "source": [
        "common = [cat for cat in test_categories if cat in train_categories]\n",
        "len(common)"
      ]
    },
    {
      "attachments": {},
      "cell_type": "markdown",
      "metadata": {
        "id": "ETIBPTSWeZQh"
      },
      "source": [
        "Посчитаем количество товаров по категориям в тренировочной и тестовой выборке:"
      ]
    },
    {
      "cell_type": "code",
      "execution_count": 20,
      "metadata": {
        "colab": {
          "base_uri": "https://localhost:8080/"
        },
        "id": "LqmS-2dWX9NH",
        "outputId": "62d884b6-357e-408a-c06f-93fb8e3f5c4c"
      },
      "outputs": [
        {
          "data": {
            "text/plain": [
              "categories\n",
              "Смартфоны, планшеты, мобильные телефоны    59389\n",
              "Компьютер                                  57572\n",
              "Чехол                                      40775\n",
              "Расходник для печати                       38878\n",
              "Кабели и переходники                       26669\n",
              "                                           ...  \n",
              "Спортивные чехлы и сумки                       1\n",
              "Охота и стрельба                               1\n",
              "Солнечная, ветряная электростанция             1\n",
              "Сувениры и подарки                             1\n",
              "Мотоаксессуары                                 1\n",
              "Name: count, Length: 127, dtype: int64"
            ]
          },
          "execution_count": 20,
          "metadata": {},
          "output_type": "execute_result"
        }
      ],
      "source": [
        "train_etl['categories'].value_counts()"
      ]
    },
    {
      "cell_type": "code",
      "execution_count": 21,
      "metadata": {
        "colab": {
          "base_uri": "https://localhost:8080/"
        },
        "id": "__BkojvbX2DL",
        "outputId": "63c12520-f521-4f37-db40-a99ad5b4b0ee"
      },
      "outputs": [
        {
          "data": {
            "text/plain": [
              "categories\n",
              "Запчасти для ноутбуков               4498\n",
              "Зарядные устройства и док-станции    3640\n",
              "Расходник для печати                 3099\n",
              "Смарт-часы                           3031\n",
              "Кабели и переходники                 2146\n",
              "                                     ... \n",
              "Сценическое оборудование и свет         8\n",
              "Демонстрационное оборудование           4\n",
              "CD проигрыватели и плееры               2\n",
              "SIM-карты                               2\n",
              "Аксессуары для квадрокоптеров           1\n",
              "Name: count, Length: 74, dtype: int64"
            ]
          },
          "execution_count": 21,
          "metadata": {},
          "output_type": "execute_result"
        }
      ],
      "source": [
        "test_etl['categories'].value_counts()"
      ]
    },
    {
      "attachments": {},
      "cell_type": "markdown",
      "metadata": {
        "id": "obJ2DBBHdZH7"
      },
      "source": [
        "Некоторые категории встречаются сильно реже других. Объединим их в одну категорию:"
      ]
    },
    {
      "cell_type": "code",
      "execution_count": 22,
      "metadata": {
        "id": "v3xYGtYQcArP"
      },
      "outputs": [],
      "source": [
        "train_cat_counts = train_etl['categories'].value_counts()\n",
        "train_etl['categories'] = train_etl['categories'].apply(lambda x: x if train_cat_counts[x] > 1000 else \"rest\")\n",
        "\n",
        "test_cat_counts = test_etl['categories'].value_counts()\n",
        "test_etl['categories'] = test_etl[\"categories\"].apply(lambda x: x if test_cat_counts[x] > 1000 else \"rest\")"
      ]
    },
    {
      "attachments": {},
      "cell_type": "markdown",
      "metadata": {
        "id": "8s5R3QWbg-Cq"
      },
      "source": [
        "Найдем общие категории в тренировочной и тестовой выборке"
      ]
    },
    {
      "cell_type": "code",
      "execution_count": 25,
      "metadata": {
        "id": "mHMJ_nKuer6e"
      },
      "outputs": [],
      "source": [
        "train_cat_counts = dict(train_etl['categories'].value_counts())\n",
        "test_cat_counts = dict(test_etl['categories'].value_counts())\n",
        "train_cats_common_with_test = {k : v for k,v in train_cat_counts.items() if k in test_cat_counts.keys()}"
      ]
    },
    {
      "cell_type": "code",
      "execution_count": 26,
      "metadata": {
        "id": "d7ODWVwsfjqY"
      },
      "outputs": [],
      "source": [
        "sorted_train_cats = {key: train_cats_common_with_test[key] for key in sorted(train_cats_common_with_test.keys())}\n",
        "sorted_test_cats = {key: test_cat_counts[key] for key in sorted(test_cat_counts.keys())}"
      ]
    },
    {
      "attachments": {},
      "cell_type": "markdown",
      "metadata": {
        "id": "No_Q_lX2ihk4"
      },
      "source": [
        "Выполним визуализацию количества товаров в общих категориях"
      ]
    },
    {
      "cell_type": "code",
      "execution_count": 27,
      "metadata": {
        "colab": {
          "base_uri": "https://localhost:8080/",
          "height": 799
        },
        "id": "Y4H12jfxc2kl",
        "outputId": "676ae461-c6c2-4f95-c971-569c94f1e51b"
      },
      "outputs": [
        {
          "data": {
            "image/png": "[encoded data removed]",
            "text/plain": [
              "<Figure size 640x480 with 1 Axes>"
            ]
          },
          "metadata": {},
          "output_type": "display_data"
        }
      ],
      "source": [
        "common_categories = sorted_train_cats.keys()\n",
        "train_vals = sorted_train_cats.values()\n",
        "test_vals = sorted_test_cats.values()\n",
        "  \n",
        "X_axis = np.arange(len(common_categories))\n",
        "  \n",
        "plt.bar(X_axis - 0.2, train_vals, 0.4, label='Train')\n",
        "plt.bar(X_axis + 0.2, test_vals, 0.4, label='Test')\n",
        "  \n",
        "plt.xticks(X_axis, common_categories, rotation=90)\n",
        "plt.xlabel(\"Categories\")\n",
        "plt.ylabel(\"Counts\")\n",
        "plt.title(\"Categories counts in train & test data\")\n",
        "plt.legend()\n",
        "plt.show()"
      ]
    },
    {
      "cell_type": "code",
      "execution_count": 28,
      "metadata": {
        "colab": {
          "base_uri": "https://localhost:8080/"
        },
        "id": "Ps0dBX4Wl5PL",
        "outputId": "42a0278e-35f1-4b1e-bece-c6dd867cd8b5"
      },
      "outputs": [
        {
          "data": {
            "text/plain": [
              "{'rest': 0.9,\n",
              " 'Батарейки и аккумуляторы': 0.092,\n",
              " 'Жесткие диски, SSD и сетевые накопители': 0.108,\n",
              " 'Запчасти для ноутбуков': 0.381,\n",
              " 'Запчасти для смартфонов': 0.184,\n",
              " 'Зарядные устройства и док-станции': 0.303,\n",
              " 'Кабели и переходники': 0.08,\n",
              " 'Компьютер': 0.035,\n",
              " 'Наушники и гарнитуры': 0.062,\n",
              " 'Расходник для печати': 0.08,\n",
              " 'Смарт-часы': 0.205,\n",
              " 'Смартфоны, планшеты, мобильные телефоны': 0.031}"
            ]
          },
          "execution_count": 28,
          "metadata": {},
          "output_type": "execute_result"
        }
      ],
      "source": [
        "# Соотношение тестовой выборки к тренировочной по категориям\n",
        "{items_1[0] : np.round(items_1[1]/items_2[1], 3) for items_1, items_2 in zip(sorted_test_cats.items(), sorted_train_cats.items())}"
      ]
    },
    {
      "cell_type": "code",
      "execution_count": 29,
      "metadata": {
        "colab": {
          "base_uri": "https://localhost:8080/"
        },
        "id": "kMaSk2QypJEq",
        "outputId": "5d67bfc6-c34b-41c9-efff-cf5e00a92983"
      },
      "outputs": [
        {
          "data": {
            "text/plain": [
              "{'rest': 1.111,\n",
              " 'Батарейки и аккумуляторы': 10.836,\n",
              " 'Жесткие диски, SSD и сетевые накопители': 9.25,\n",
              " 'Запчасти для ноутбуков': 2.621,\n",
              " 'Запчасти для смартфонов': 5.434,\n",
              " 'Зарядные устройства и док-станции': 3.301,\n",
              " 'Кабели и переходники': 12.427,\n",
              " 'Компьютер': 28.222,\n",
              " 'Наушники и гарнитуры': 16.168,\n",
              " 'Расходник для печати': 12.545,\n",
              " 'Смарт-часы': 4.887,\n",
              " 'Смартфоны, планшеты, мобильные телефоны': 32.471}"
            ]
          },
          "execution_count": 29,
          "metadata": {},
          "output_type": "execute_result"
        }
      ],
      "source": [
        "# Соотношение тренировочной выборки к тестовой по категориям\n",
        "{items_1[0] : np.round(items_1[1]/items_2[1], 3) for items_1, items_2 in zip(sorted_train_cats.items(), sorted_test_cats.items())}"
      ]
    },
    {
      "attachments": {},
      "cell_type": "markdown",
      "metadata": {
        "id": "lyiaZ-tLuujl"
      },
      "source": [
        "# Train Data Selecting"
      ]
    },
    {
      "attachments": {},
      "cell_type": "markdown",
      "metadata": {
        "id": "R6GJEI_vj4iF"
      },
      "source": [
        "Выберем в качестве тренировочных данных ту часть, которая соответствует категориям тестовой выборки"
      ]
    },
    {
      "cell_type": "code",
      "execution_count": 30,
      "metadata": {
        "colab": {
          "base_uri": "https://localhost:8080/"
        },
        "id": "siVq_W5fkAmt",
        "outputId": "326b2fe7-67e8-4055-ccbd-1a19c4aad2ea"
      },
      "outputs": [
        {
          "data": {
            "text/plain": [
              "(282849, 10)"
            ]
          },
          "execution_count": 30,
          "metadata": {},
          "output_type": "execute_result"
        }
      ],
      "source": [
        "train_set = train_etl[train_etl['categories'].isin(list(common_categories))]\n",
        "train_set.shape"
      ]
    },
    {
      "cell_type": "code",
      "execution_count": 31,
      "metadata": {
        "id": "CYyIoQ5olVw8"
      },
      "outputs": [],
      "source": [
        "train_cat_val_counts = train_set['categories'].value_counts()"
      ]
    },
    {
      "attachments": {},
      "cell_type": "markdown",
      "metadata": {
        "id": "P5PpT3AJsA-3"
      },
      "source": [
        "Выполним undersampling для полученной тренировочной выборки:"
      ]
    },
    {
      "cell_type": "code",
      "execution_count": 32,
      "metadata": {
        "id": "FsU4W0Vmpk1j"
      },
      "outputs": [],
      "source": [
        "LIMIT = 20_000"
      ]
    },
    {
      "cell_type": "code",
      "execution_count": 33,
      "metadata": {
        "id": "jxS2F22yoIoy"
      },
      "outputs": [],
      "source": [
        "train_under_limit = train_set.groupby('categories').filter(lambda x : len(x) < LIMIT)\n",
        "train_over_limit = train_set.groupby('categories').filter(lambda x : len(x) > LIMIT)"
      ]
    },
    {
      "cell_type": "code",
      "execution_count": 34,
      "metadata": {
        "colab": {
          "base_uri": "https://localhost:8080/"
        },
        "id": "_e7mp7AKqcsC",
        "outputId": "8f20c709-99ea-433e-a186-bd1ba5570d1c"
      },
      "outputs": [
        {
          "data": {
            "text/plain": [
              "(80000, 10)"
            ]
          },
          "execution_count": 34,
          "metadata": {},
          "output_type": "execute_result"
        }
      ],
      "source": [
        "sampled = []\n",
        "for cat_name in train_over_limit['categories'].unique():\n",
        "  sample = train_over_limit[train_over_limit['categories'] == cat_name ]\n",
        "  sample = sample.sample(LIMIT)\n",
        "  sampled.append(sample)\n",
        "undersampled = pd.concat(sampled)\n",
        "undersampled.shape"
      ]
    },
    {
      "cell_type": "code",
      "execution_count": 35,
      "metadata": {
        "colab": {
          "base_uri": "https://localhost:8080/"
        },
        "id": "lzXPN7ijrWPa",
        "outputId": "c1436c34-afba-4699-dbcc-7142aebe641d"
      },
      "outputs": [
        {
          "data": {
            "text/plain": [
              "(180341, 10)"
            ]
          },
          "execution_count": 35,
          "metadata": {},
          "output_type": "execute_result"
        }
      ],
      "source": [
        "# Наша тренировочная выборка\n",
        "train_data = pd.concat([train_under_limit, undersampled])\n",
        "train_data.shape"
      ]
    },
    {
      "attachments": {},
      "cell_type": "markdown",
      "metadata": {
        "id": "1jdZYNdks6ro"
      },
      "source": [
        "Поскольку тренировочный датасет изменился, то поменяем список тренировочных пар:"
      ]
    },
    {
      "cell_type": "code",
      "execution_count": 36,
      "metadata": {
        "id": "9XEhphDhs0E3"
      },
      "outputs": [],
      "source": [
        "train_ids = train_data['variantid'].unique()"
      ]
    },
    {
      "cell_type": "code",
      "execution_count": 37,
      "metadata": {
        "colab": {
          "base_uri": "https://localhost:8080/"
        },
        "id": "74U5YWOCs5y1",
        "outputId": "70c2d708-abf6-4ea8-c607-88cf6b33d03a"
      },
      "outputs": [
        {
          "data": {
            "text/plain": [
              "(118948, 3)"
            ]
          },
          "execution_count": 37,
          "metadata": {},
          "output_type": "execute_result"
        }
      ],
      "source": [
        "train_pairs[train_pairs['variantid1'].isin(train_ids)].shape"
      ]
    },
    {
      "cell_type": "code",
      "execution_count": 38,
      "metadata": {
        "colab": {
          "base_uri": "https://localhost:8080/"
        },
        "id": "0hUxwVKwuYJR",
        "outputId": "f265b963-4728-4397-a079-45036382fe98"
      },
      "outputs": [
        {
          "data": {
            "text/plain": [
              "(119495, 3)"
            ]
          },
          "execution_count": 38,
          "metadata": {},
          "output_type": "execute_result"
        }
      ],
      "source": [
        "train_pairs[train_pairs['variantid2'].isin(train_ids)].shape"
      ]
    },
    {
      "cell_type": "code",
      "execution_count": 39,
      "metadata": {
        "colab": {
          "base_uri": "https://localhost:8080/"
        },
        "id": "RFCr3nSgufa9",
        "outputId": "a98d011a-15e8-46aa-f07b-5c440d3e20cf"
      },
      "outputs": [
        {
          "data": {
            "text/plain": [
              "target        0\n",
              "variantid1    0\n",
              "variantid2    0\n",
              "dtype: int64"
            ]
          },
          "execution_count": 39,
          "metadata": {},
          "output_type": "execute_result"
        }
      ],
      "source": [
        "train_pairs[train_pairs['variantid2'].isin(train_ids)].isna().sum()"
      ]
    },
    {
      "cell_type": "code",
      "execution_count": 40,
      "metadata": {
        "id": "mu_4kEVtujSn"
      },
      "outputs": [],
      "source": [
        "train_pairs_new = train_pairs[train_pairs['variantid2'].isin(train_ids)]"
      ]
    },
    {
      "attachments": {},
      "cell_type": "markdown",
      "metadata": {
        "id": "7IwGsU7Lyc0a"
      },
      "source": [
        "Соотношение классов в новой тренировочной выборке нас устраивает:"
      ]
    },
    {
      "cell_type": "code",
      "execution_count": 41,
      "metadata": {
        "colab": {
          "base_uri": "https://localhost:8080/"
        },
        "id": "eIoMQ-hzySVG",
        "outputId": "8b6780bb-8301-409a-c5e9-eaa26c85ed61"
      },
      "outputs": [
        {
          "data": {
            "text/plain": [
              "target\n",
              "0.0    171527\n",
              "1.0    135013\n",
              "Name: count, dtype: int64"
            ]
          },
          "execution_count": 41,
          "metadata": {},
          "output_type": "execute_result"
        }
      ],
      "source": [
        "train_pairs['target'].value_counts()"
      ]
    },
    {
      "cell_type": "code",
      "execution_count": 42,
      "metadata": {
        "colab": {
          "base_uri": "https://localhost:8080/"
        },
        "id": "haKigOEmyXJq",
        "outputId": "9e53da1c-2d04-4195-f49b-21d3c6239d9f"
      },
      "outputs": [
        {
          "data": {
            "text/plain": [
              "target\n",
              "0.0    65123\n",
              "1.0    54372\n",
              "Name: count, dtype: int64"
            ]
          },
          "execution_count": 42,
          "metadata": {},
          "output_type": "execute_result"
        }
      ],
      "source": [
        "train_pairs_new['target'].value_counts()"
      ]
    },
    {
      "attachments": {},
      "cell_type": "markdown",
      "metadata": {
        "id": "rgtupraVvCIA"
      },
      "source": [
        "# Data Preprocessing"
      ]
    },
    {
      "attachments": {},
      "cell_type": "markdown",
      "metadata": {
        "id": "VVAGbohXv4rs"
      },
      "source": [
        "Оставим те данные, которые содержат только текстовую информацию:"
      ]
    },
    {
      "cell_type": "code",
      "execution_count": 44,
      "metadata": {
        "id": "3buvAk5uFF_y"
      },
      "outputs": [],
      "source": [
        "text_cols = ['variantid', 'name', 'categories', 'color_parsed', 'attr_keys','attr_vals', 'name_bert_64']\n",
        "text_data = train_data[text_cols]"
      ]
    },
    {
      "cell_type": "code",
      "execution_count": 46,
      "metadata": {
        "id": "pmIljM_zxUv9"
      },
      "outputs": [],
      "source": [
        "# Удалим колонки, которые не будем использовать при обучении:\n",
        "text_data = text_data.drop( [\"color_parsed\", \"name\"] , axis=1)"
      ]
    },
    {
      "cell_type": "code",
      "execution_count": 47,
      "metadata": {
        "colab": {
          "base_uri": "https://localhost:8080/",
          "height": 112
        },
        "id": "DtScokmrx1Bh",
        "outputId": "3d1e644f-fd1e-4346-d54d-8af2c52a2b6a"
      },
      "outputs": [
        {
          "data": {
            "text/html": [
              "<div>\n",
              "<style scoped>\n",
              "    .dataframe tbody tr th:only-of-type {\n",
              "        vertical-align: middle;\n",
              "    }\n",
              "\n",
              "    .dataframe tbody tr th {\n",
              "        vertical-align: top;\n",
              "    }\n",
              "\n",
              "    .dataframe thead th {\n",
              "        text-align: right;\n",
              "    }\n",
              "</style>\n",
              "<table border=\"1\" class=\"dataframe\">\n",
              "  <thead>\n",
              "    <tr style=\"text-align: right;\">\n",
              "      <th></th>\n",
              "      <th>variantid</th>\n",
              "      <th>categories</th>\n",
              "      <th>attr_keys</th>\n",
              "      <th>attr_vals</th>\n",
              "      <th>name_bert_64</th>\n",
              "    </tr>\n",
              "  </thead>\n",
              "  <tbody>\n",
              "    <tr>\n",
              "      <th>4</th>\n",
              "      <td>61054740</td>\n",
              "      <td>rest</td>\n",
              "      <td>Материал; Количество секций, шт; Цвет товара; ...</td>\n",
              "      <td>Металл; 4; черный; Apiko; 1 год; Возможность с...</td>\n",
              "      <td>[-0.72692573, 0.75206333, 0.37740713, -0.52502...</td>\n",
              "    </tr>\n",
              "    <tr>\n",
              "      <th>7</th>\n",
              "      <td>68392618</td>\n",
              "      <td>Смарт-часы</td>\n",
              "      <td>Рекомендовано для; Цвет товара; Размер цифербл...</td>\n",
              "      <td>Apple; красный; 38mm 40mm 41mm; 155; https://c...</td>\n",
              "      <td>[-0.6567105, 0.44319087, 0.59552664, -0.450899...</td>\n",
              "    </tr>\n",
              "  </tbody>\n",
              "</table>\n",
              "</div>"
            ],
            "text/plain": [
              "   variantid  categories                                          attr_keys   \n",
              "4   61054740        rest  Материал; Количество секций, шт; Цвет товара; ...  \\\n",
              "7   68392618  Смарт-часы  Рекомендовано для; Цвет товара; Размер цифербл...   \n",
              "\n",
              "                                           attr_vals   \n",
              "4  Металл; 4; черный; Apiko; 1 год; Возможность с...  \\\n",
              "7  Apple; красный; 38mm 40mm 41mm; 155; https://c...   \n",
              "\n",
              "                                        name_bert_64  \n",
              "4  [-0.72692573, 0.75206333, 0.37740713, -0.52502...  \n",
              "7  [-0.6567105, 0.44319087, 0.59552664, -0.450899...  "
            ]
          },
          "execution_count": 47,
          "metadata": {},
          "output_type": "execute_result"
        }
      ],
      "source": [
        "text_data.head(2)"
      ]
    },
    {
      "attachments": {},
      "cell_type": "markdown",
      "metadata": {
        "id": "PQd8ULq7vwOc"
      },
      "source": [
        "Объединим таргеты с данными:"
      ]
    },
    {
      "cell_type": "code",
      "execution_count": 48,
      "metadata": {
        "colab": {
          "base_uri": "https://localhost:8080/",
          "height": 260
        },
        "id": "PhWSrmdFvNYP",
        "outputId": "b7e87c6a-24dc-4865-ba6e-f62e62739acd"
      },
      "outputs": [
        {
          "data": {
            "text/html": [
              "<div>\n",
              "<style scoped>\n",
              "    .dataframe tbody tr th:only-of-type {\n",
              "        vertical-align: middle;\n",
              "    }\n",
              "\n",
              "    .dataframe tbody tr th {\n",
              "        vertical-align: top;\n",
              "    }\n",
              "\n",
              "    .dataframe thead th {\n",
              "        text-align: right;\n",
              "    }\n",
              "</style>\n",
              "<table border=\"1\" class=\"dataframe\">\n",
              "  <thead>\n",
              "    <tr style=\"text-align: right;\">\n",
              "      <th></th>\n",
              "      <th>target</th>\n",
              "      <th>variantid1</th>\n",
              "      <th>variantid2</th>\n",
              "      <th>categories1</th>\n",
              "      <th>attr_keys1</th>\n",
              "      <th>attr_vals1</th>\n",
              "      <th>name_bert_641</th>\n",
              "      <th>categories2</th>\n",
              "      <th>attr_keys2</th>\n",
              "      <th>attr_vals2</th>\n",
              "      <th>name_bert_642</th>\n",
              "    </tr>\n",
              "  </thead>\n",
              "  <tbody>\n",
              "    <tr>\n",
              "      <th>0</th>\n",
              "      <td>1.0</td>\n",
              "      <td>53888651</td>\n",
              "      <td>89598677</td>\n",
              "      <td>Смарт-часы</td>\n",
              "      <td>Совместимость; Материал браслета; Бесконтактна...</td>\n",
              "      <td>Android PC iOS; Пластик; Нет; 30; Водонепрониц...</td>\n",
              "      <td>[-0.45303595, 0.35168907, 0.45074046, -0.29676...</td>\n",
              "      <td>Смарт-часы</td>\n",
              "      <td>Размеры, мм; Название цвета; Сенсорный экран; ...</td>\n",
              "      <td>45х39х14; зеленый; Да; голубой; Аккумулятор; 4...</td>\n",
              "      <td>[-0.43019646, 0.3099462, 0.45133576, -0.297509...</td>\n",
              "    </tr>\n",
              "    <tr>\n",
              "      <th>1</th>\n",
              "      <td>1.0</td>\n",
              "      <td>53888651</td>\n",
              "      <td>89581630</td>\n",
              "      <td>Смарт-часы</td>\n",
              "      <td>Совместимость; Материал браслета; Бесконтактна...</td>\n",
              "      <td>Android PC iOS; Пластик; Нет; 30; Водонепрониц...</td>\n",
              "      <td>[-0.45303595, 0.35168907, 0.45074046, -0.29676...</td>\n",
              "      <td>Смарт-часы</td>\n",
              "      <td>Работа в режиме ожидания, ч; Дополнительные фу...</td>\n",
              "      <td>24; Кнопка экстренного вызова; Китай; Да; Детс...</td>\n",
              "      <td>[-0.43019646, 0.3099462, 0.45133576, -0.297509...</td>\n",
              "    </tr>\n",
              "  </tbody>\n",
              "</table>\n",
              "</div>"
            ],
            "text/plain": [
              "   target  variantid1  variantid2 categories1   \n",
              "0     1.0    53888651    89598677  Смарт-часы  \\\n",
              "1     1.0    53888651    89581630  Смарт-часы   \n",
              "\n",
              "                                          attr_keys1   \n",
              "0  Совместимость; Материал браслета; Бесконтактна...  \\\n",
              "1  Совместимость; Материал браслета; Бесконтактна...   \n",
              "\n",
              "                                          attr_vals1   \n",
              "0  Android PC iOS; Пластик; Нет; 30; Водонепрониц...  \\\n",
              "1  Android PC iOS; Пластик; Нет; 30; Водонепрониц...   \n",
              "\n",
              "                                       name_bert_641 categories2   \n",
              "0  [-0.45303595, 0.35168907, 0.45074046, -0.29676...  Смарт-часы  \\\n",
              "1  [-0.45303595, 0.35168907, 0.45074046, -0.29676...  Смарт-часы   \n",
              "\n",
              "                                          attr_keys2   \n",
              "0  Размеры, мм; Название цвета; Сенсорный экран; ...  \\\n",
              "1  Работа в режиме ожидания, ч; Дополнительные фу...   \n",
              "\n",
              "                                          attr_vals2   \n",
              "0  45х39х14; зеленый; Да; голубой; Аккумулятор; 4...  \\\n",
              "1  24; Кнопка экстренного вызова; Китай; Да; Детс...   \n",
              "\n",
              "                                       name_bert_642  \n",
              "0  [-0.43019646, 0.3099462, 0.45133576, -0.297509...  \n",
              "1  [-0.43019646, 0.3099462, 0.45133576, -0.297509...  "
            ]
          },
          "execution_count": 48,
          "metadata": {},
          "output_type": "execute_result"
        }
      ],
      "source": [
        "train_preprocessed = (\n",
        "    train_pairs_new\n",
        "    .merge(\n",
        "        text_data\n",
        "        .add_suffix('1'),\n",
        "        on=\"variantid1\"\n",
        "    )\n",
        "    .merge(\n",
        "        text_data\n",
        "        .add_suffix('2'),\n",
        "        on=\"variantid2\"\n",
        "    )\n",
        ")\n",
        "train_preprocessed.head(2)"
      ]
    },
    {
      "cell_type": "code",
      "execution_count": 49,
      "metadata": {},
      "outputs": [
        {
          "data": {
            "text/plain": [
              "target           0\n",
              "variantid1       0\n",
              "variantid2       0\n",
              "categories1      0\n",
              "attr_keys1       0\n",
              "attr_vals1       0\n",
              "name_bert_641    0\n",
              "categories2      0\n",
              "attr_keys2       0\n",
              "attr_vals2       0\n",
              "name_bert_642    0\n",
              "dtype: int64"
            ]
          },
          "execution_count": 49,
          "metadata": {},
          "output_type": "execute_result"
        }
      ],
      "source": [
        "train_preprocessed.isna().sum()"
      ]
    },
    {
      "cell_type": "code",
      "execution_count": 50,
      "metadata": {
        "id": "Wa21LK76UXX0"
      },
      "outputs": [],
      "source": [
        "train_preprocessed.to_parquet(\"../preprocessed/train_pairs_sampled_preprocessed.parquet\", index=False)"
      ]
    },
    {
      "attachments": {},
      "cell_type": "markdown",
      "metadata": {
        "id": "7qQ_K4q4zF8c"
      },
      "source": [
        "Подготовим также тестовую выборку к дальнейшему использованию:"
      ]
    },
    {
      "cell_type": "code",
      "execution_count": 126,
      "metadata": {
        "colab": {
          "base_uri": "https://localhost:8080/",
          "height": 112
        },
        "id": "uzz1_IUHzQeE",
        "outputId": "d36ac1f8-63cd-4bdb-e64c-cd22c1d643eb"
      },
      "outputs": [
        {
          "data": {
            "text/html": [
              "<div>\n",
              "<style scoped>\n",
              "    .dataframe tbody tr th:only-of-type {\n",
              "        vertical-align: middle;\n",
              "    }\n",
              "\n",
              "    .dataframe tbody tr th {\n",
              "        vertical-align: top;\n",
              "    }\n",
              "\n",
              "    .dataframe thead th {\n",
              "        text-align: right;\n",
              "    }\n",
              "</style>\n",
              "<table border=\"1\" class=\"dataframe\">\n",
              "  <thead>\n",
              "    <tr style=\"text-align: right;\">\n",
              "      <th></th>\n",
              "      <th>variantid1</th>\n",
              "      <th>variantid2</th>\n",
              "      <th>cat3_grouped</th>\n",
              "    </tr>\n",
              "  </thead>\n",
              "  <tbody>\n",
              "    <tr>\n",
              "      <th>0</th>\n",
              "      <td>52076340</td>\n",
              "      <td>290590137</td>\n",
              "      <td>Батарейки и аккумуляторы</td>\n",
              "    </tr>\n",
              "    <tr>\n",
              "      <th>1</th>\n",
              "      <td>64525522</td>\n",
              "      <td>204128919</td>\n",
              "      <td>Смартфоны, планшеты, мобильные телефоны</td>\n",
              "    </tr>\n",
              "  </tbody>\n",
              "</table>\n",
              "</div>"
            ],
            "text/plain": [
              "   variantid1  variantid2                             cat3_grouped\n",
              "0    52076340   290590137                 Батарейки и аккумуляторы\n",
              "1    64525522   204128919  Смартфоны, планшеты, мобильные телефоны"
            ]
          },
          "execution_count": 126,
          "metadata": {},
          "output_type": "execute_result"
        }
      ],
      "source": [
        "test_pairs.head(2)"
      ]
    },
    {
      "cell_type": "code",
      "execution_count": 54,
      "metadata": {
        "colab": {
          "base_uri": "https://localhost:8080/",
          "height": 375
        },
        "id": "qTvM8A6izX4o",
        "outputId": "7cf75814-be48-4ba4-e77a-f0512ee3033f"
      },
      "outputs": [
        {
          "data": {
            "text/html": [
              "<div>\n",
              "<style scoped>\n",
              "    .dataframe tbody tr th:only-of-type {\n",
              "        vertical-align: middle;\n",
              "    }\n",
              "\n",
              "    .dataframe tbody tr th {\n",
              "        vertical-align: top;\n",
              "    }\n",
              "\n",
              "    .dataframe thead th {\n",
              "        text-align: right;\n",
              "    }\n",
              "</style>\n",
              "<table border=\"1\" class=\"dataframe\">\n",
              "  <thead>\n",
              "    <tr style=\"text-align: right;\">\n",
              "      <th></th>\n",
              "      <th>variantid</th>\n",
              "      <th>categories</th>\n",
              "      <th>attr_keys</th>\n",
              "      <th>attr_vals</th>\n",
              "      <th>name_bert_64</th>\n",
              "    </tr>\n",
              "  </thead>\n",
              "  <tbody>\n",
              "    <tr>\n",
              "      <th>0</th>\n",
              "      <td>51201254</td>\n",
              "      <td>rest</td>\n",
              "      <td>Страна-изготовитель; Бренд; Входное напряжение...</td>\n",
              "      <td>Китай; TDM Electric; 250; 4; Удлинитель бытово...</td>\n",
              "      <td>[-0.5060825, 0.5773388, 0.59435517, -0.4958292...</td>\n",
              "    </tr>\n",
              "    <tr>\n",
              "      <th>1</th>\n",
              "      <td>77151532</td>\n",
              "      <td>Запчасти для ноутбуков</td>\n",
              "      <td>Страна-изготовитель; Комплектация; Бренд; Вес ...</td>\n",
              "      <td>Китай;  с черной рамкой; CHIP; 120; 14 дней; К...</td>\n",
              "      <td>[-0.43467724, 0.6614495, 0.48050267, -0.588880...</td>\n",
              "    </tr>\n",
              "  </tbody>\n",
              "</table>\n",
              "</div>"
            ],
            "text/plain": [
              "   variantid              categories   \n",
              "0   51201254                    rest  \\\n",
              "1   77151532  Запчасти для ноутбуков   \n",
              "\n",
              "                                           attr_keys   \n",
              "0  Страна-изготовитель; Бренд; Входное напряжение...  \\\n",
              "1  Страна-изготовитель; Комплектация; Бренд; Вес ...   \n",
              "\n",
              "                                           attr_vals   \n",
              "0  Китай; TDM Electric; 250; 4; Удлинитель бытово...  \\\n",
              "1  Китай;  с черной рамкой; CHIP; 120; 14 дней; К...   \n",
              "\n",
              "                                        name_bert_64  \n",
              "0  [-0.5060825, 0.5773388, 0.59435517, -0.4958292...  \n",
              "1  [-0.43467724, 0.6614495, 0.48050267, -0.588880...  "
            ]
          },
          "execution_count": 54,
          "metadata": {},
          "output_type": "execute_result"
        }
      ],
      "source": [
        "test_text = test_etl[['variantid',\"color_parsed\" ,'name', 'categories', 'attr_keys', 'attr_vals', 'name_bert_64']]\n",
        "test_text = test_text.drop([\"name\", \"color_parsed\"], axis=1)\n",
        "test_text.head(2)"
      ]
    },
    {
      "cell_type": "code",
      "execution_count": 55,
      "metadata": {
        "colab": {
          "base_uri": "https://localhost:8080/",
          "height": 260
        },
        "id": "cp2SW5za7M_u",
        "outputId": "82cb225b-7b91-4ff7-dd70-22b2b8a72baa"
      },
      "outputs": [
        {
          "data": {
            "text/html": [
              "<div>\n",
              "<style scoped>\n",
              "    .dataframe tbody tr th:only-of-type {\n",
              "        vertical-align: middle;\n",
              "    }\n",
              "\n",
              "    .dataframe tbody tr th {\n",
              "        vertical-align: top;\n",
              "    }\n",
              "\n",
              "    .dataframe thead th {\n",
              "        text-align: right;\n",
              "    }\n",
              "</style>\n",
              "<table border=\"1\" class=\"dataframe\">\n",
              "  <thead>\n",
              "    <tr style=\"text-align: right;\">\n",
              "      <th></th>\n",
              "      <th>variantid1</th>\n",
              "      <th>variantid2</th>\n",
              "      <th>categories1</th>\n",
              "      <th>attr_keys1</th>\n",
              "      <th>attr_vals1</th>\n",
              "      <th>name_bert_641</th>\n",
              "      <th>categories2</th>\n",
              "      <th>attr_keys2</th>\n",
              "      <th>attr_vals2</th>\n",
              "      <th>name_bert_642</th>\n",
              "    </tr>\n",
              "  </thead>\n",
              "  <tbody>\n",
              "    <tr>\n",
              "      <th>0</th>\n",
              "      <td>52076340</td>\n",
              "      <td>290590137</td>\n",
              "      <td>Батарейки и аккумуляторы</td>\n",
              "      <td>Напряжение, В; Бренд; Тип; Форм-фактор батареи...</td>\n",
              "      <td>1.5; Perfeo; Батарейка; AAA; Щелочной; Китай; ...</td>\n",
              "      <td>[-0.28437558, 0.60909724, 0.5972025, -0.523296...</td>\n",
              "      <td>Батарейки и аккумуляторы</td>\n",
              "      <td>Форм-фактор батареи; Химический тип; Назначени...</td>\n",
              "      <td>AAA; Щелочной; Универсальный; Батарейка, фирме...</td>\n",
              "      <td>[-0.3380968, 0.6156224, 0.6428071, -0.57499236...</td>\n",
              "    </tr>\n",
              "    <tr>\n",
              "      <th>1</th>\n",
              "      <td>64525522</td>\n",
              "      <td>204128919</td>\n",
              "      <td>Смартфоны, планшеты, мобильные телефоны</td>\n",
              "      <td>Операционная система; Защищенность; Навигация;...</td>\n",
              "      <td>Android; Влагозащита Ударопрочный корпус; A-GP...</td>\n",
              "      <td>[-0.45766184, 0.5528555, 0.26298037, -0.663931...</td>\n",
              "      <td>Смартфоны, планшеты, мобильные телефоны</td>\n",
              "      <td>Встроенная память; Видеопроцессор; Степень защ...</td>\n",
              "      <td>32 ГБ; Mali-400 MP1; IP68 IP69K; 2; Ulefone; 2...</td>\n",
              "      <td>[-0.4489074, 0.6278857, 0.33072582, -0.6749875...</td>\n",
              "    </tr>\n",
              "  </tbody>\n",
              "</table>\n",
              "</div>"
            ],
            "text/plain": [
              "   variantid1  variantid2                              categories1   \n",
              "0    52076340   290590137                 Батарейки и аккумуляторы  \\\n",
              "1    64525522   204128919  Смартфоны, планшеты, мобильные телефоны   \n",
              "\n",
              "                                          attr_keys1   \n",
              "0  Напряжение, В; Бренд; Тип; Форм-фактор батареи...  \\\n",
              "1  Операционная система; Защищенность; Навигация;...   \n",
              "\n",
              "                                          attr_vals1   \n",
              "0  1.5; Perfeo; Батарейка; AAA; Щелочной; Китай; ...  \\\n",
              "1  Android; Влагозащита Ударопрочный корпус; A-GP...   \n",
              "\n",
              "                                       name_bert_641   \n",
              "0  [-0.28437558, 0.60909724, 0.5972025, -0.523296...  \\\n",
              "1  [-0.45766184, 0.5528555, 0.26298037, -0.663931...   \n",
              "\n",
              "                               categories2   \n",
              "0                 Батарейки и аккумуляторы  \\\n",
              "1  Смартфоны, планшеты, мобильные телефоны   \n",
              "\n",
              "                                          attr_keys2   \n",
              "0  Форм-фактор батареи; Химический тип; Назначени...  \\\n",
              "1  Встроенная память; Видеопроцессор; Степень защ...   \n",
              "\n",
              "                                          attr_vals2   \n",
              "0  AAA; Щелочной; Универсальный; Батарейка, фирме...  \\\n",
              "1  32 ГБ; Mali-400 MP1; IP68 IP69K; 2; Ulefone; 2...   \n",
              "\n",
              "                                       name_bert_642  \n",
              "0  [-0.3380968, 0.6156224, 0.6428071, -0.57499236...  \n",
              "1  [-0.4489074, 0.6278857, 0.33072582, -0.6749875...  "
            ]
          },
          "execution_count": 55,
          "metadata": {},
          "output_type": "execute_result"
        }
      ],
      "source": [
        "test_preprocessed = (\n",
        "    test_pairs\n",
        "    .merge(\n",
        "        test_text\n",
        "        .add_suffix('1'),\n",
        "        on=\"variantid1\"\n",
        "    )\n",
        "    .merge(\n",
        "        test_text\n",
        "        .add_suffix('2'),\n",
        "        on=\"variantid2\"\n",
        "    )\n",
        ")\n",
        "test_preprocessed = test_preprocessed.drop(\"cat3_grouped\", axis=1)\n",
        "test_preprocessed.head(2)"
      ]
    },
    {
      "cell_type": "code",
      "execution_count": 56,
      "metadata": {
        "id": "4RLqGj1_z7PW"
      },
      "outputs": [],
      "source": [
        "test_preprocessed.to_parquet(\"../preprocessed/test_pairs_preprocessed.parquet\", index=False)"
      ]
    }
  ],
  "metadata": {
    "colab": {
      "gpuType": "T4",
      "provenance": []
    },
    "kernelspec": {
      "display_name": "Python 3",
      "name": "python3"
    },
    "language_info": {
      "codemirror_mode": {
        "name": "ipython",
        "version": 3
      },
      "file_extension": ".py",
      "mimetype": "text/x-python",
      "name": "python",
      "nbconvert_exporter": "python",
      "pygments_lexer": "ipython3",
      "version": "3.11.1"
    }
  },
  "nbformat": 4,
  "nbformat_minor": 0
}
