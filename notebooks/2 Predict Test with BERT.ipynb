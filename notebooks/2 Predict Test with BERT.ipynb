{
 "cells": [
  {
   "cell_type": "code",
   "execution_count": 1,
   "metadata": {},
   "outputs": [],
   "source": [
    "import torch \n",
    "from torch.utils.data import DataLoader\n",
    "\n",
    "from datasets import load_dataset\n",
    "from transformers import DataCollatorWithPadding\n",
    "from transformers import AutoTokenizer\n",
    "\n",
    "import numpy as np\n",
    "import pandas as pd\n",
    "\n",
    "import time\n",
    "import random\n",
    "\n",
    "import sys\n",
    "sys.path.append(\"../\")\n",
    "from src.utils import predict_with_model\n",
    "from src.model import BertSiameseModel"
   ]
  },
  {
   "cell_type": "code",
   "execution_count": 2,
   "metadata": {},
   "outputs": [],
   "source": [
    "SEED = 2023\n",
    "random.seed(SEED)\n",
    "np.random.seed(SEED)\n",
    "torch.manual_seed(SEED)\n",
    "torch.cuda.manual_seed(SEED)\n",
    "torch.backends.cudnn.deterministic = True"
   ]
  },
  {
   "attachments": {},
   "cell_type": "markdown",
   "metadata": {},
   "source": [
    "# Predict"
   ]
  },
  {
   "cell_type": "code",
   "execution_count": null,
   "metadata": {},
   "outputs": [],
   "source": [
    "test_etl = pd.read_parquet(\"../dataset/test_data.parquet\")\n",
    "test_data = load_dataset(\"parquet\", data_files=\"../preprocessed/test_pairs_preprocessed.parquet\", split=\"train\")"
   ]
  },
  {
   "cell_type": "code",
   "execution_count": null,
   "metadata": {},
   "outputs": [],
   "source": [
    "bert_tokenizer = AutoTokenizer.from_pretrained(\"cointegrated/rubert-tiny2\",\n",
    "                                               truncation=True, return_tensors='pt', \n",
    "                                               model_max_length=256 )\n",
    "\n",
    "test_texts = test_data.remove_columns( ['categories1', 'categories2'])\n",
    "\n",
    "test_texts_1 = test_texts.map(lambda x : bert_tokenizer(x['attr_keys1'], x['attr_vals1'], truncation=True))\n",
    "test_texts_1 = test_texts_1.remove_columns(['variantid1', 'variantid2'])\n",
    "test_texts_1 = test_texts_1.remove_columns(['name_bert_642', 'attr_vals1', 'attr_keys1', 'attr_keys2', 'attr_vals2'])\n",
    "\n",
    "test_texts_2 = test_texts.map(lambda x : bert_tokenizer(x['attr_keys2'], x['attr_vals2'], truncation=True))\n",
    "test_texts_2 = test_texts_2.remove_columns(['variantid1', 'variantid2'])\n",
    "test_texts_2 = test_texts_2.remove_columns(['name_bert_641', 'attr_vals1', 'attr_keys1', 'attr_keys2', 'attr_vals2'])\n",
    "\n",
    "test_texts_2 = test_texts_2.rename_column(\"name_bert_642\", \"name_bert\")\n",
    "test_texts_1 = test_texts_1.rename_column(\"name_bert_641\", \"name_bert\")"
   ]
  },
  {
   "cell_type": "code",
   "execution_count": 5,
   "metadata": {},
   "outputs": [],
   "source": [
    "data_collator = DataCollatorWithPadding(bert_tokenizer)\n",
    "test_text_dataloader = DataLoader(test_texts_1, batch_size=16, shuffle=False, collate_fn=data_collator)\n",
    "test_text_dataloader2 = DataLoader(test_texts_2, batch_size=16, shuffle=False, collate_fn=data_collator)"
   ]
  },
  {
   "cell_type": "code",
   "execution_count": 6,
   "metadata": {},
   "outputs": [],
   "source": [
    "test_pairs = pd.read_parquet(\"../dataset/test_pairs_wo_target.parquet\")"
   ]
  },
  {
   "cell_type": "code",
   "execution_count": 7,
   "metadata": {},
   "outputs": [
    {
     "name": "stderr",
     "output_type": "stream",
     "text": [
      "You're using a BertTokenizerFast tokenizer. Please note that with a fast tokenizer, using the `__call__` method is faster than using a method to encode the text followed by a call to the `pad` method to get a padded encoding.\n"
     ]
    }
   ],
   "source": [
    "siam = torch.load(\"../models/1685637489.722339.pth\", map_location=torch.device('cpu'))\n",
    "device = \"cuda:0\" if torch.cuda.is_available() else 'cpu'\n",
    "predictions = predict_with_model(siam, test_text_dataloader, test_text_dataloader2, device)"
   ]
  },
  {
   "cell_type": "code",
   "execution_count": 8,
   "metadata": {},
   "outputs": [],
   "source": [
    "test_pairs[\"target\"] = predictions"
   ]
  },
  {
   "cell_type": "code",
   "execution_count": 9,
   "metadata": {},
   "outputs": [
    {
     "name": "stdout",
     "output_type": "stream",
     "text": [
      "0.0030309027060866356 ['Батарейка AAA щелочная Perfeo LR03/10BL Super Alkaline 10 шт'] ['Батарейка AAA щелочная Perfeo LR03/2BL mini Super Alkaline 2 шт 2 упаковки']\n",
      "0.044209353625774384 ['Смартфон Ulefone Armor X5 3/32 ГБ, черный, красный'] ['Смартфон Ulefone Armor X3 2/32 ГБ, черный, красный']\n",
      "0.0022869708482176065 ['Цифровой кабель TV-COM HDMI 1.4 (M/ M) Full HD 1080p 3 м чёрный (CG150S-3M)'] ['Кабель  HDMI 1.4 (Male/Male) (CG150S-1.5M), черный + подарок']\n",
      "0.0007595684728585184 ['Смартфон Vivo Y93 1815 3/32 ГБ, черный'] ['Смартфон Vivo Y81 3/32 ГБ, черный']\n",
      "0.004558359272778034 ['Смартфон Blackview BV4900 3/32 ГБ, оранжевый'] ['Смартфон Blackview BV4900 3/32 ГБ, оранжевый, черный']\n",
      "0.12988369166851044 ['Картридж лазерный Brother TN2275 черный (2600стр.) для Brother HL2240/2250/DCP7060/7070/MFC7630/7860'] ['Картридж Brother TN2275, черный, для лазерного принтера']\n",
      "0.21709057688713074 ['Аккумулятор для Samsung NP300V 11.1V 4400mAh TopON'] ['Аккумулятор для Samsung NT300V 11.1V 4400mAh']\n",
      "0.32029905915260315 ['Видеокарта Colorful GeForce RTX 3070 Ti 8 ГБ (RTX 3070 Ti Vulcan OC 8G), LHR'] ['Видеокарта Colorful GeForce RTX 3070 Ti 8 ГБ (iGame GeForce RTX 3070 Ti Ultra W OC 8G L-V), LHR']\n",
      "0.016058068722486496 ['Смартфон Samsung Galaxy S21 5G 8/128GB фиолетовый фантом , серебристый'] ['Samsung Galaxy S21 Чехол для смартфона']\n",
      "0.0021082586608827114 ['Блок питания для ноутбука Asus B53 19V 3.42A 5.5x2.5mm 65W TopON'] ['Блок питания для ноутбука Asus A2 19V 3.42A 5.5x2.5mm 65W TopON']\n",
      "0.039052803069353104 ['Беспроводные наушники'] ['Беспроводные наушники']\n",
      "0.011668777093291283 ['Аккумулятор GoPower Li-Pol LP401015-PCM 3.7V 30mAh 1шт'] ['Аккумулятор Li-Pol GoPower LP605590 PK1 3.7V 3500mAh']\n",
      "0.005022975150495768 [' Ноутбук Acer NX.EG9ER.01P, AMD Ryzen 3 3250U (2.6 ГГц), RAM 8 ГБ, AMD Radeon, Windows Pro'] ['15.6\" Ноутбук Acer Extensa 15 EX215-22G-R9G5, AMD Athlon Silver 3050U (2.3 ГГц), RAM 8 ГБ, SSD 256 ГБ, AMD Radeon 625 (2 Гб), Без системы, (NX.EGAER.00C), Черный']\n",
      "0.04584076628088951 ['Monstermount MB-4224, Black кронштейн для ТВ'] ['Monstermount MB-4225, White кронштейн для ТВ']\n",
      "0.40701302886009216 ['Брошюровщик Bulros U-12, А4, механический, пластиковая пружина'] ['Брошюровщик Bulros U-12 пласт.пруж']\n"
     ]
    }
   ],
   "source": [
    "# Разные\n",
    "for _, row in test_pairs[test_pairs['target'] < 0.5].head(15).iterrows():\n",
    "  id1 = int(row['variantid1'])\n",
    "  id2 = int(row['variantid2'])\n",
    "  \n",
    "  print(row['target'] , test_etl[test_etl['variantid'] == id1]['name'].to_list(), test_etl[test_etl['variantid'] == id2]['name'].to_list())"
   ]
  },
  {
   "cell_type": "code",
   "execution_count": 10,
   "metadata": {},
   "outputs": [
    {
     "name": "stdout",
     "output_type": "stream",
     "text": [
      "0.9166208505630493 ['Игровая мышь проводная A4Tech Bloody P93, 8 кнопок, подсветка, 5000 dpi, Bullet'] ['Мышь A4Tech Bloody P93s Bullet, серый, оптическая (8000dpi), USB (8 кнопок)']\n",
      "0.8617610931396484 ['M42-M42 (17-31) M42 - M42 Крепление фокусировочного кольца геликоида для объектива '] ['Переходные кольца/адаптеры для объективов,M42-M42(17-31)']\n",
      "0.9954909682273865 ['Дисплей для Xiaomi Redmi Note 4X в сборе с тачскрином и рамкой, черный'] ['Дисплей для Xiaomi Redmi Note 4X в сборе с тачскрином (белый) (у телефона отсутствуют винты снизу)']\n",
      "0.9961600303649902 ['Ремешок силиконовый GSMIN Sport Band 20 для Huawei Watch GT Active (Дизайн 9)'] ['Ремешок силиконовый GSMIN Sport Band 20 для Huawei Watch GT Active (Дизайн 1)']\n",
      "0.6777706742286682 ['Шлейф с вибромотором iPhone 7 Plus'] ['Шлейф материнской платы для iPhone 7 Plus']\n",
      "0.995583713054657 ['Компьютерный корпус Exegate XP-330U-XP600, черный '] ['Корпус ATX Exegate XP-330U 500 Вт чёрный EX272730RUS']\n",
      "0.9228420257568359 ['Сим лоток для iPhone 7 Plus RED + Скрепка для лотка сим-карты'] ['Лоток SIM-карты iPhone 7 (RED)']\n",
      "0.8346850275993347 ['Компьютер Raskat Strike 320 (Intel Core i3-10105, RAM 8Gb, HDD 2Tb, SSD 240Gb, GeForce GTX 1050 Ti 4Gb, Win10)'] ['Компьютер Raskat Strike 320 (Intel Core i3-10105F, RAM 16Gb, HDD 1Tb, SSD 240Gb, GeForce RTX 2060 12Gb, Win10)']\n",
      "0.9902752637863159 ['Картридж NV Print 106R01401M, пурпурный, для лазерного принтера'] ['Картридж NV Print 106R01524M, пурпурный, для лазерного принтера']\n",
      "0.9738672375679016 ['Камера видеонаблюдения Hiwatch IPC-C082-G2 (2.8mm)'] ['Камера видеонаблюдения Hiwatch IPC-T082-G2/U (2.8mm)']\n",
      "0.9990812540054321 ['Клавиатура для ноутбука Lenovo IdeaPad Y470'] ['Клавиатура для ноутбука Lenovo IdeaPad Y470N (795)']\n",
      "0.9629473686218262 ['Портативная bluetooth-колонка JBL Charge 4 Black'] ['Портативная bluetooth-колонка JBL Charge 4 White']\n",
      "0.9537537693977356 ['FAN7930BM Микросхема'] ['BIT3252A Микросхема']\n",
      "0.9314451217651367 ['Набор микропрепаратов Bresser 50 шт., в кейсе'] ['Набор микропрепаратов Bresser 25 шт., в кейсе']\n",
      "0.9219727516174316 ['Чип Hi-Black к картриджу Xerox WC 5222 (106R01413), Toner, черный (black), 20000 стр. (5972837998)'] ['Чип Hi-Black к картриджу HP Color LaserJet CP3525 (CE251A), голубой (cyan), 7000 стр. (209101021)']\n"
     ]
    }
   ],
   "source": [
    "# Похожие\n",
    "for _, row in test_pairs[test_pairs['target'] > 0.5].head(15).iterrows():\n",
    "  id1 = int(row['variantid1'])\n",
    "  id2 = int(row['variantid2'])\n",
    "  \n",
    "  print(row['target'] , test_etl[test_etl['variantid'] == id1]['name'].to_list(), test_etl[test_etl['variantid'] == id2]['name'].to_list())"
   ]
  },
  {
   "cell_type": "code",
   "execution_count": 11,
   "metadata": {},
   "outputs": [],
   "source": [
    "test_pairs.to_csv(f\"submit_{time.time()}.csv\", index=False)"
   ]
  }
 ],
 "metadata": {
  "kernelspec": {
   "display_name": ".venv",
   "language": "python",
   "name": "python3"
  },
  "language_info": {
   "codemirror_mode": {
    "name": "ipython",
    "version": 3
   },
   "file_extension": ".py",
   "mimetype": "text/x-python",
   "name": "python",
   "nbconvert_exporter": "python",
   "pygments_lexer": "ipython3",
   "version": "3.11.1"
  },
  "orig_nbformat": 4
 },
 "nbformat": 4,
 "nbformat_minor": 2
}
